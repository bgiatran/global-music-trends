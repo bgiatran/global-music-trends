{
 "cells": [
  {
   "cell_type": "code",
   "execution_count": null,
   "id": "initial_id",
   "metadata": {
    "collapsed": true
   },
   "outputs": [],
   "source": [
    "# EDA Overview of Genre, Language, and Audio Trends\n",
    "\n",
    "import pandas as pd\n",
    "import seaborn as sns\n",
    "import matplotlib.pyplot as plt\n",
    "\n",
    "# Load datasets containing basic track metadata, audio features, and detected languages\n",
    "tracks = pd.read_csv('../data/tracks_2020.csv')\n",
    "audio = pd.read_csv('../data/audio_features.csv')\n",
    "languages = pd.read_csv('../data/language_detected.csv')\n",
    "\n",
    "# Merge datasets into a single DataFrame for unified analysis\n",
    "# Merge track metadata with audio features based on track_id\n",
    "df = pd.merge(tracks, audio, on='track_id', how='left')\n",
    "\n",
    "# Add detected language for each track by merging on track_id again\n",
    "df = pd.merge(df, languages[['track_id', 'language']], on='track_id', how='left')\n",
    "\n",
    "# Convert release_date to datetime format and extract the release year\n",
    "# This is useful for analyzing trends over time\n",
    "df['release_date'] = pd.to_datetime(df['release_date'], errors='coerce')\n",
    "df['year'] = df['release_date'].dt.year\n",
    "\n",
    "# Plot the number of tracks released per year\n",
    "# Gives a basic sense of how the volume of music releases has changed over time\n",
    "plt.figure(figsize=(10, 4))\n",
    "sns.histplot(df['year'].dropna(), bins=20, kde=False)\n",
    "plt.title(\"Track Count by Year\")\n",
    "plt.xlabel(\"Year\")\n",
    "plt.ylabel(\"Number of Tracks\")\n",
    "plt.tight_layout()\n",
    "plt.show()\n",
    "\n",
    "# Plot the top 10 most common languages detected in the dataset\n",
    "# Helps understand the global language diversity of popular music\n",
    "plt.figure(figsize=(8, 4))\n",
    "sns.countplot(\n",
    "    y='language',\n",
    "    data=df,\n",
    "    order=df['language'].value_counts().iloc[:10].index\n",
    ")\n",
    "plt.title(\"Top Detected Languages\")\n",
    "plt.tight_layout()\n",
    "plt.show()"
   ]
  }
 ],
 "metadata": {
  "kernelspec": {
   "display_name": "Python 3",
   "language": "python",
   "name": "python3"
  },
  "language_info": {
   "codemirror_mode": {
    "name": "ipython",
    "version": 2
   },
   "file_extension": ".py",
   "mimetype": "text/x-python",
   "name": "python",
   "nbconvert_exporter": "python",
   "pygments_lexer": "ipython2",
   "version": "2.7.6"
  }
 },
 "nbformat": 4,
 "nbformat_minor": 5
}
