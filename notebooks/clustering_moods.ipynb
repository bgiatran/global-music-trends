{
 "cells": [
  {
   "cell_type": "code",
   "execution_count": null,
   "id": "initial_id",
   "metadata": {
    "collapsed": true
   },
   "outputs": [],
   "source": [
    "# Clustering tracks using mood-related audio features\n",
    "\n",
    "import pandas as pd\n",
    "from sklearn.preprocessing import StandardScaler\n",
    "from sklearn.cluster import KMeans\n",
    "import matplotlib.pyplot as plt\n",
    "import seaborn as sns\n",
    "\n",
    "# Load the cleaned dataset containing audio features for songs\n",
    "# This file should already have missing or inconsistent data handled\n",
    "df = pd.read_csv(\"../data/audio_features_cleaned.csv\")\n",
    "\n",
    "# Define the audio features most relevant to mood and musical feel\n",
    "# These will be used as input dimensions for clustering\n",
    "features = [\"danceability\", \"energy\", \"valence\", \"tempo\", \"acousticness\", \"instrumentalness\"]\n",
    "\n",
    "# Extract only the selected features, dropping any rows with missing values\n",
    "X = df[features].dropna()\n",
    "\n",
    "# Standardize the features so that each one contributes equally to distance calculations\n",
    "# This is important because features like tempo and valence are on very different scales\n",
    "scaler = StandardScaler()\n",
    "X_scaled = scaler.fit_transform(X)\n",
    "\n",
    "# Apply KMeans clustering to group songs into mood-based clusters\n",
    "# We arbitrarily choose 5 clusters to capture a variety of moods or styles\n",
    "kmeans = KMeans(n_clusters=5, random_state=42, n_init=\"auto\")\n",
    "df[\"mood_cluster\"] = kmeans.fit_predict(X_scaled)\n",
    "\n",
    "# Save the clustered dataset to a new CSV file for future use\n",
    "df.to_csv(\"../data/audio_features_clustered.csv\", index=False)\n",
    "print(\"Clustering done and saved to audio_features_clustered.csv\")\n",
    "\n",
    "# Visualize the resulting clusters using a pairplot\n",
    "# This shows how songs are distributed across clusters along different feature axes\n",
    "df_clustered = df.copy()\n",
    "sns.pairplot(df_clustered[features + [\"mood_cluster\"]], hue=\"mood_cluster\", palette=\"husl\")\n",
    "plt.suptitle(\"Mood Clusters based on Audio Features\", y=1.02)\n",
    "plt.show()"
   ]
  }
 ],
 "metadata": {
  "kernelspec": {
   "display_name": "Python 3",
   "language": "python",
   "name": "python3"
  },
  "language_info": {
   "codemirror_mode": {
    "name": "ipython",
    "version": 2
   },
   "file_extension": ".py",
   "mimetype": "text/x-python",
   "name": "python",
   "nbconvert_exporter": "python",
   "pygments_lexer": "ipython2",
   "version": "2.7.6"
  }
 },
 "nbformat": 4,
 "nbformat_minor": 5
}
