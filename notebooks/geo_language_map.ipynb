{
 "cells": [
  {
   "cell_type": "code",
   "execution_count": null,
   "id": "initial_id",
   "metadata": {
    "collapsed": true
   },
   "outputs": [],
   "source": [
    "# Language distribution by region (choropleth placeholder)\n",
    "\n",
    "import pandas as pd\n",
    "import plotly.express as px\n",
    "\n",
    "# Load language detection results and track metadata\n",
    "lang_df = pd.read_csv('../data/language_detected.csv')\n",
    "tracks_df = pd.read_csv('../data/tracks_2020.csv')\n",
    "\n",
    "# Merge both datasets on track_id to combine language and region info\n",
    "df = pd.merge(tracks_df, lang_df[['track_id', 'language']], on='track_id', how='left')\n",
    "\n",
    "# Temporarily assign all tracks to a single region for testing the choropleth\n",
    "# In a real scenario, this should be replaced with actual country or region data per track\n",
    "df['region'] = 'United States'  # Replace with actual country field if available\n",
    "\n",
    "# Aggregate language counts by region\n",
    "# This will give the number of songs in each language per region\n",
    "lang_counts = df.groupby(['region', 'language']).size().reset_index(name='count')\n",
    "\n",
    "# Plot a choropleth map using Plotly Express\n",
    "# This map visualizes the distribution of song languages by country (mock data for now)\n",
    "fig = px.choropleth(\n",
    "    lang_counts,\n",
    "    locations='region',\n",
    "    locationmode='country names',\n",
    "    color='count',\n",
    "    hover_name='language',\n",
    "    title='Language Distribution by Country (Mock)',\n",
    "    color_continuous_scale='Viridis'\n",
    ")\n",
    "\n",
    "fig.show()"
   ]
  }
 ],
 "metadata": {
  "kernelspec": {
   "display_name": "Python 3",
   "language": "python",
   "name": "python3"
  },
  "language_info": {
   "codemirror_mode": {
    "name": "ipython",
    "version": 2
   },
   "file_extension": ".py",
   "mimetype": "text/x-python",
   "name": "python",
   "nbconvert_exporter": "python",
   "pygments_lexer": "ipython2",
   "version": "2.7.6"
  }
 },
 "nbformat": 4,
 "nbformat_minor": 5
}
